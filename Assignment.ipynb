{
 "cells": [
  {
   "cell_type": "code",
   "execution_count": 0,
   "metadata": {
    "application/vnd.databricks.v1+cell": {
     "cellMetadata": {
      "byteLimit": 2048000,
      "rowLimit": 10000
     },
     "inputWidgets": {},
     "nuid": "a3312b52-75a5-4eec-9394-1df188d862d5",
     "showTitle": false,
     "tableResultSettingsMap": {},
     "title": ""
    }
   },
   "outputs": [],
   "source": [
    "from pyspark.sql.functions import col, udf, year, to_date,expr, when, avg,expr\n",
    "from pyspark.sql.types import DoubleType\n",
    "import pandas as pd\n",
    "from pyspark.sql import SparkSession"
   ]
  },
  {
   "cell_type": "markdown",
   "metadata": {
    "application/vnd.databricks.v1+cell": {
     "cellMetadata": {},
     "inputWidgets": {},
     "nuid": "03338c28-fbe9-4634-8669-1a71d7071b43",
     "showTitle": false,
     "tableResultSettingsMap": {},
     "title": ""
    }
   },
   "source": [
    "Initializes a Spark session, which is essential for executing Spark code"
   ]
  },
  {
   "cell_type": "code",
   "execution_count": 0,
   "metadata": {
    "application/vnd.databricks.v1+cell": {
     "cellMetadata": {
      "byteLimit": 2048000,
      "rowLimit": 10000
     },
     "inputWidgets": {},
     "nuid": "5347e29f-ba25-4aae-a392-f8d1794e9572",
     "showTitle": false,
     "tableResultSettingsMap": {},
     "title": ""
    }
   },
   "outputs": [],
   "source": [
    "spark = SparkSession.builder.appName(\"ClientAnalysis\").getOrCreate()"
   ]
  },
  {
   "cell_type": "markdown",
   "metadata": {
    "application/vnd.databricks.v1+cell": {
     "cellMetadata": {},
     "inputWidgets": {},
     "nuid": "2a78ee0c-99c6-4c67-924b-caf0515ef64a",
     "showTitle": false,
     "tableResultSettingsMap": {},
     "title": ""
    }
   },
   "source": [
    "Loads datasets from Databricks Catalog into Spark DataFrames"
   ]
  },
  {
   "cell_type": "code",
   "execution_count": 0,
   "metadata": {
    "application/vnd.databricks.v1+cell": {
     "cellMetadata": {
      "byteLimit": 2048000,
      "rowLimit": 10000
     },
     "inputWidgets": {},
     "nuid": "d4c068f0-0909-43bf-9496-efb650ece72c",
     "showTitle": false,
     "tableResultSettingsMap": {},
     "title": ""
    }
   },
   "outputs": [
    {
     "output_type": "stream",
     "name": "stdout",
     "output_type": "stream",
     "text": [
      "Payment Information Table:\n+----------+------------+-----------+--------------+\n|client_id |payment_date|amount_paid|payment_method|\n+----------+------------+-----------+--------------+\n|6292156167|2019-09-16  |447.0      |Bank Transfer |\n|7462725203|2018-05-21  |379.7      |Bank Transfer |\n|4698004907|2021-09-11  |435.1      |Check         |\n|3510240337|2020-12-07  |413.1      |Check         |\n|7501599785|2019-03-04  |61.1       |Bank Transfer |\n+----------+------------+-----------+--------------+\nonly showing top 5 rows\nSubscription Information Table:\n+----------+-----------------+----------+----------+-------+\n|client_id |subscription_type|start_date|end_date  |renewed|\n+----------+-----------------+----------+----------+-------+\n|1131383004|Yearly           |2020-11-11|2021-11-11|false  |\n|4309371709|Monthly          |2021-05-24|2021-06-23|true   |\n|3183675157|Yearly           |2021-12-25|2022-12-25|true   |\n|5371694837|Monthly          |2020-03-14|2020-04-13|true   |\n|5157113076|Monthly          |2019-11-07|2019-12-07|false  |\n+----------+-----------------+----------+----------+-------+\nonly showing top 5 rows\nIndustry Client Details Table:\n+----------+------------+---------------+---------+\n|client_id |company_size|industry       |location |\n+----------+------------+---------------+---------+\n|4280387012|Large       |Finance Lending|Mumbai   |\n|2095513148|Small       |Finance Lending|Chennai  |\n|7225516707|Medium      |Finance Lending|New Delhi|\n|8093537819|Large       |Block Chain    |Mumbai   |\n|4387541014|Medium      |Hyper Local    |Banglore |\n+----------+------------+---------------+---------+\nonly showing top 5 rows\nFinancial Information Table:\n+----------+----------+--------------+---------------+\n|start_date|end_date  |inflation_rate|gdp_growth_rate|\n+----------+----------+--------------+---------------+\n|2018-01-01|2018-03-31|5.77          |3.51           |\n|2018-04-01|2018-06-30|1.17          |2.15           |\n|2018-07-01|2018-09-30|1.56          |1.82           |\n|2018-10-01|2018-12-31|2.78          |2.43           |\n|2019-01-01|2019-03-31|6.91          |3.44           |\n+----------+----------+--------------+---------------+\nonly showing top 5 rows\n"
     ]
    }
   ],
   "source": [
    "# Load Spark tables directly from Databricks Catalog\n",
    "payment_df = spark.table(\"default.payment_information\")\n",
    "subscription_df = spark.table(\"default.subscription_information\")\n",
    "industry_df = spark.table(\"default.industry_client_details\")\n",
    "financial_df = spark.table(\"default.finanical_information\")\n",
    "\n",
    "# Display first 5 rows from each DataFrame\n",
    "print(\"Payment Information Table:\")\n",
    "payment_df.show(5, truncate=False)\n",
    "\n",
    "print(\"Subscription Information Table:\")\n",
    "subscription_df.show(5, truncate=False)\n",
    "\n",
    "print(\"Industry Client Details Table:\")\n",
    "industry_df.show(5, truncate=False)\n",
    "\n",
    "print(\"Financial Information Table:\")\n",
    "financial_df.show(5, truncate=False)\n"
   ]
  },
  {
   "cell_type": "code",
   "execution_count": 0,
   "metadata": {
    "application/vnd.databricks.v1+cell": {
     "cellMetadata": {
      "byteLimit": 2048000,
      "rowLimit": 10000
     },
     "inputWidgets": {},
     "nuid": "3abbd812-5225-4bb0-8985-24d1372ed585",
     "showTitle": false,
     "tableResultSettingsMap": {},
     "title": ""
    }
   },
   "outputs": [
    {
     "output_type": "stream",
     "name": "stdout",
     "output_type": "stream",
     "text": [
      "Finance Lending clients: 22\nBlockchain clients: 25\n"
     ]
    }
   ],
   "source": [
    "# QUESTION 1: Count finance lending and blockchain clients\n",
    "# Answer: Filters rows by industry (\"Finance Lending\", \"Block Chain\") and counts unique client IDs.\n",
    "finance_clients = industry_df.filter(col(\"industry\") == \"Finance Lending\").select(\"client_id\").distinct().count()\n",
    "blockchain_clients = industry_df.filter(col(\"industry\") == \"Block Chain\").select(\"client_id\").distinct().count()\n",
    "print(\"Finance Lending clients: \" + str(finance_clients))\n",
    "print(\"Blockchain clients: \" + str(blockchain_clients))"
   ]
  },
  {
   "cell_type": "code",
   "execution_count": 0,
   "metadata": {
    "application/vnd.databricks.v1+cell": {
     "cellMetadata": {
      "byteLimit": 2048000,
      "rowLimit": 10000
     },
     "inputWidgets": {},
     "nuid": "b6bd0369-d0d8-42d1-a717-529469f429db",
     "showTitle": false,
     "tableResultSettingsMap": {},
     "title": ""
    }
   },
   "outputs": [
    {
     "output_type": "stream",
     "name": "stdout",
     "output_type": "stream",
     "text": [
      "Industry with Highest Renewal Rate: Gaming\n"
     ]
    }
   ],
   "source": [
    "# QUESTION 2: Industry with the highest renewal rate\n",
    "# Answer : Joins subscription and industry data on client ID to combine subscription renewal data with industry information\n",
    "subscription_industry_df = subscription_df.join(industry_df, \"client_id\", \"inner\")\n",
    "\n",
    "# Spark can't directly average boolean values; converting True/False to 1/0 allows numerical averaging.\n",
    "\n",
    "subscription_industry_df = subscription_industry_df.withColumn(\n",
    "    \"renewed_numeric\",\n",
    "    when(col(\"renewed\") == True, 1).otherwise(0)\n",
    ")\n",
    "\n",
    "# Compute renewal rates correctly\n",
    "#Groups by industry and calculates average renewal rate, ordering results descendingly.\n",
    "renewal_rates = subscription_industry_df.groupBy(\"industry\") \\\n",
    "    .agg({\"renewed_numeric\": \"avg\"}) \\\n",
    "    .withColumnRenamed(\"avg(renewed_numeric)\", \"renewal_rate\") \\\n",
    "    .orderBy(col(\"renewal_rate\").desc())\n",
    "\n",
    "highest_renewal_industry = renewal_rates.first()['industry']\n",
    "print(f\"Industry with Highest Renewal Rate: {highest_renewal_industry}\")\n"
   ]
  },
  {
   "cell_type": "code",
   "execution_count": 0,
   "metadata": {
    "application/vnd.databricks.v1+cell": {
     "cellMetadata": {
      "byteLimit": 2048000,
      "rowLimit": 10000
     },
     "inputWidgets": {},
     "nuid": "c203cb2a-03d9-497e-b3e8-a4da9ced113c",
     "showTitle": false,
     "tableResultSettingsMap": {},
     "title": ""
    }
   },
   "outputs": [],
   "source": [
    "## QUESTION 3: Average inflation rate during renewals\n",
    "# Ensure dates in correct format\n",
    "subscription_df = subscription_df.withColumn(\"end_date\", to_date(col(\"end_date\")))\n",
    "financial_df = financial_df.withColumn(\"start_date\", to_date(col(\"start_date\"))) \\\n",
    "                             .withColumn(\"end_date\", to_date(col(\"end_date\")))\n",
    "\n",
    "\n"
   ]
  },
  {
   "cell_type": "code",
   "execution_count": 0,
   "metadata": {
    "application/vnd.databricks.v1+cell": {
     "cellMetadata": {
      "byteLimit": 2048000,
      "rowLimit": 10000
     },
     "inputWidgets": {},
     "nuid": "995e8b44-1fe2-4201-b32e-bd0026738517",
     "showTitle": false,
     "tableResultSettingsMap": {},
     "title": ""
    }
   },
   "outputs": [],
   "source": [
    "# Joins subscription data with financial data based on whether the subscription renewal date (end_date) falls within a financial period (start_date to end_date in financial data).\n",
    "joined_df = subscription_df.filter(col(\"renewed\") == True) \\\n",
    "    .join(\n",
    "        financial_df,\n",
    "        (subscription_df.end_date >= financial_df.start_date) & \n",
    "        (subscription_df.end_date <= financial_df.end_date),\n",
    "        \"left\"\n",
    "    )\n",
    "\n"
   ]
  },
  {
   "cell_type": "code",
   "execution_count": 0,
   "metadata": {
    "application/vnd.databricks.v1+cell": {
     "cellMetadata": {
      "byteLimit": 2048000,
      "rowLimit": 10000
     },
     "inputWidgets": {},
     "nuid": "0218daa2-015b-460d-a718-47218ecb4533",
     "showTitle": false,
     "tableResultSettingsMap": {},
     "title": ""
    }
   },
   "outputs": [
    {
     "output_type": "stream",
     "name": "stdout",
     "output_type": "stream",
     "text": [
      "Average Inflation Rate at Renewal: 4.31%\n"
     ]
    }
   ],
   "source": [
    "# Computes the average inflation rate across all renewal events\n",
    "average_inflation_rate = joined_df.agg(avg(\"inflation_rate\").alias(\"avg_inflation_rate\")) \\\n",
    "                                  .collect()[0][\"avg_inflation_rate\"]\n",
    "\n",
    "print(f\"Average Inflation Rate at Renewal: {average_inflation_rate:.2f}%\")"
   ]
  },
  {
   "cell_type": "code",
   "execution_count": 0,
   "metadata": {
    "application/vnd.databricks.v1+cell": {
     "cellMetadata": {
      "byteLimit": 2048000,
      "rowLimit": 10000
     },
     "inputWidgets": {},
     "nuid": "964ad098-47d2-44ef-acea-caef76cb7342",
     "showTitle": false,
     "tableResultSettingsMap": {},
     "title": ""
    }
   },
   "outputs": [
    {
     "output_type": "stream",
     "name": "stdout",
     "output_type": "stream",
     "text": [
      "Median Amount Paid Each Year:\n+----+-------------+\n|year|median_amount|\n+----+-------------+\n|2018|        235.7|\n|2019|        348.1|\n|2020|        284.5|\n|2021|        300.7|\n|2022|        285.0|\n+----+-------------+\n\n"
     ]
    },
    {
     "output_type": "stream",
     "name": "stderr",
     "output_type": "stream",
     "text": [
      "/databricks/python/lib/python3.11/site-packages/pyspark/sql/connect/client/reattach.py:253: UserWarning: ReleaseExecute failed with exception: <_InactiveRpcError of RPC that terminated with:\n\tstatus = StatusCode.INTERNAL\n\tdetails = \"[INVALID_HANDLE.SESSION_CLOSED] The handle b8253de7-b88f-443b-a746-90e57d55f5f3 is invalid. Session was closed. SQLSTATE: HY000\"\n\tdebug_error_string = \"UNKNOWN:Error received from peer  {grpc_message:\"[INVALID_HANDLE.SESSION_CLOSED] The handle b8253de7-b88f-443b-a746-90e57d55f5f3 is invalid. Session was closed. SQLSTATE: HY000\", grpc_status:13, created_time:\"2025-03-30T09:31:47.416722626+00:00\"}\"\n>.\n  warnings.warn(f\"ReleaseExecute failed with exception: {e}.\")\n"
     ]
    }
   ],
   "source": [
    "# QUESTION 4: Median amount paid each year for all payment methods\n",
    "#Converts payment_date from a string to a date format, then extracts the year into a separate column\n",
    "payment_df = payment_df.withColumn(\"payment_date\", to_date(col(\"payment_date\"), \"M/d/yyyy\")) \\\n",
    "                       .withColumn(\"year\", year(col(\"payment_date\")))\n",
    "\n",
    "# Groups payments by year and calculates the median (percentile_approx with 0.5 as the percentile) amount paid each year.\n",
    "#percentile_approx(amount_paid, 0.5) calculates the approximate median (50th percentile).\n",
    "median_payments_df = payment_df.groupBy(\"year\") \\\n",
    "    .agg(expr(\"percentile_approx(amount_paid, 0.5)\").alias(\"median_amount\")) \\\n",
    "    .orderBy(\"year\")\n",
    "\n",
    "print(\"Median Amount Paid Each Year:\")\n",
    "median_payments_df.show()\n",
    "\n",
    "# Ends the Spark session, releasing resources after the analysis.\n",
    "spark.stop()"
   ]
  },
  {
   "cell_type": "code",
   "execution_count": 0,
   "metadata": {
    "application/vnd.databricks.v1+cell": {
     "cellMetadata": {
      "byteLimit": 2048000,
      "rowLimit": 10000
     },
     "inputWidgets": {},
     "nuid": "d8f32179-7822-4a46-aa0e-5490cae8eb73",
     "showTitle": false,
     "tableResultSettingsMap": {},
     "title": ""
    }
   },
   "outputs": [
    {
     "output_type": "stream",
     "name": "stdout",
     "output_type": "stream",
     "text": [
      "3.11.10 (main, Sep  7 2024, 18:35:41) [GCC 11.4.0]\n"
     ]
    }
   ],
   "source": []
  },
  {
   "cell_type": "code",
   "execution_count": 0,
   "metadata": {
    "application/vnd.databricks.v1+cell": {
     "cellMetadata": {},
     "inputWidgets": {},
     "nuid": "8025d77d-8ed4-4170-9648-ec0a0007eab7",
     "showTitle": false,
     "tableResultSettingsMap": {},
     "title": ""
    }
   },
   "outputs": [],
   "source": []
  }
 ],
 "metadata": {
  "application/vnd.databricks.v1+notebook": {
   "computePreferences": null,
   "dashboards": [],
   "environmentMetadata": {
    "base_environment": "",
    "environment_version": "2"
   },
   "inputWidgetPreferences": null,
   "language": "python",
   "notebookMetadata": {
    "pythonIndentUnit": 4
   },
   "notebookName": "Assignment",
   "widgets": {}
  },
  "language_info": {
   "name": "python"
  }
 },
 "nbformat": 4,
 "nbformat_minor": 0
}